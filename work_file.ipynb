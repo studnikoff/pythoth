{
 "cells": [
  {
   "cell_type": "code",
   "execution_count": 1,
   "metadata": {},
   "outputs": [],
   "source": [
    "from pythoth import Invoicer, FormatDeterminer\n",
    "import pandas as pd"
   ]
  },
  {
   "attachments": {},
   "cell_type": "markdown",
   "metadata": {},
   "source": [
    "# Input"
   ]
  },
  {
   "cell_type": "code",
   "execution_count": 2,
   "metadata": {},
   "outputs": [
    {
     "name": "stdout",
     "output_type": "stream",
     "text": [
      "   points  time    year     month  points_h1\n",
      "0    50.0  5:00  2010.0       NaN        NaN\n",
      "1    25.0  6:00     NaN  february        NaN\n",
      "2    90.0  9:00     NaN   january        NaN\n",
      "3     NaN   NaN     NaN      june       20.0\n"
     ]
    }
   ],
   "source": [
    "TEXT = 'EXAMPLE is very simple (123456) but this Eg Example should pass all validations with 654321'\n",
    "PATH = 'signature.xlsx'\n",
    "test_data = [{'points': 50, 'time': '5:00', 'year': 2010}, \n",
    " {'points': 25, 'time': '6:00', 'month': \"february\"}, \n",
    " {'points':90, 'time': '9:00', 'month': 'january'}, \n",
    " {'points_h1':20, 'month': 'june'}]\n",
    "INVOICE_DF = pd.DataFrame(test_data)\n",
    "print(INVOICE_DF)"
   ]
  },
  {
   "cell_type": "code",
   "execution_count": 3,
   "metadata": {},
   "outputs": [
    {
     "name": "stdout",
     "output_type": "stream",
     "text": [
      "<pythoth.strategy.ExampleFormat object at 0x7fe780a0e8e0>\n"
     ]
    }
   ],
   "source": [
    "# Здесь мы определяем стратегию\n",
    "# \n",
    "# \n",
    "\n",
    "fd = FormatDeterminer(PATH)\n",
    "# strategy = fd.define_strategy('DELLDIRECT is 54654 important Document type you need name his NAME and pass through 555')\n",
    "strategy = fd.define_strategy(TEXT)\n",
    "print(strategy)"
   ]
  },
  {
   "cell_type": "code",
   "execution_count": 4,
   "metadata": {},
   "outputs": [],
   "source": [
    "# Здесь можно установить нужную тебе стратегию\n",
    "# Invoicer имеет два метода: set_strategy и format\n",
    "# format использует внутри класса Invoicer стратегию, которую ты установил в set_strategy\n",
    "\n",
    "invoice = Invoicer()\n",
    "invoice.set_strategy(strategy)"
   ]
  },
  {
   "cell_type": "code",
   "execution_count": 5,
   "metadata": {},
   "outputs": [
    {
     "data": {
      "text/html": [
       "<div>\n",
       "<style scoped>\n",
       "    .dataframe tbody tr th:only-of-type {\n",
       "        vertical-align: middle;\n",
       "    }\n",
       "\n",
       "    .dataframe tbody tr th {\n",
       "        vertical-align: top;\n",
       "    }\n",
       "\n",
       "    .dataframe thead th {\n",
       "        text-align: right;\n",
       "    }\n",
       "</style>\n",
       "<table border=\"1\" class=\"dataframe\">\n",
       "  <thead>\n",
       "    <tr style=\"text-align: right;\">\n",
       "      <th></th>\n",
       "      <th>points</th>\n",
       "      <th>time</th>\n",
       "      <th>year</th>\n",
       "      <th>month</th>\n",
       "      <th>points_h1</th>\n",
       "    </tr>\n",
       "  </thead>\n",
       "  <tbody>\n",
       "    <tr>\n",
       "      <th>0</th>\n",
       "      <td>50.0</td>\n",
       "      <td>5:00</td>\n",
       "      <td>2010.0</td>\n",
       "      <td>january</td>\n",
       "      <td>NaN</td>\n",
       "    </tr>\n",
       "    <tr>\n",
       "      <th>2</th>\n",
       "      <td>90.0</td>\n",
       "      <td>9:00</td>\n",
       "      <td>NaN</td>\n",
       "      <td>january</td>\n",
       "      <td>NaN</td>\n",
       "    </tr>\n",
       "  </tbody>\n",
       "</table>\n",
       "</div>"
      ],
      "text/plain": [
       "   points  time    year    month  points_h1\n",
       "0    50.0  5:00  2010.0  january        NaN\n",
       "2    90.0  9:00     NaN  january        NaN"
      ]
     },
     "execution_count": 5,
     "metadata": {},
     "output_type": "execute_result"
    }
   ],
   "source": [
    "# Получаем на выход отформатированный по твоим правилам датафрейм\n",
    "df_res = invoice.format(INVOICE_DF)\n",
    "df_res"
   ]
  }
 ],
 "metadata": {
  "kernelspec": {
   "display_name": ".venv",
   "language": "python",
   "name": "python3"
  },
  "language_info": {
   "codemirror_mode": {
    "name": "ipython",
    "version": 3
   },
   "file_extension": ".py",
   "mimetype": "text/x-python",
   "name": "python",
   "nbconvert_exporter": "python",
   "pygments_lexer": "ipython3",
   "version": "3.9.5"
  },
  "orig_nbformat": 4,
  "vscode": {
   "interpreter": {
    "hash": "87f4e4b54b3ef650582d4a7b6a5a762ad0392d356424debcdbe017c9e541c4f5"
   }
  }
 },
 "nbformat": 4,
 "nbformat_minor": 2
}
